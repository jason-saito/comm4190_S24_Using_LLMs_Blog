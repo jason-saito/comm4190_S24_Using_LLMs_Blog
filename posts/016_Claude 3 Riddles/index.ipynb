{
 "cells": [
  {
   "cell_type": "code",
   "execution_count": null,
   "id": "4b1a00a4-411f-43ec-9aad-e856ad8ba00c",
   "metadata": {},
   "outputs": [],
   "source": [
    "---\n",
    "title: \"Claude Opus Riddles\"\n",
    "description: \"How does ChatGPT4 show its sports knowledge\"\n",
    "author: \"Jason Saito\"\n",
    "date: \"3/28/2024\"\n",
    "categories:\n",
    "- Sports\n",
    "- Videos\n",
    "- Media\n",
    "---"
   ]
  }
 ],
 "metadata": {
  "citation-manager": {
   "items": {}
  },
  "kernelspec": {
   "display_name": "Python 3.11 (COMM4190)",
   "language": "python",
   "name": "comm4190"
  },
  "language_info": {
   "codemirror_mode": {
    "name": "ipython",
    "version": 3
   },
   "file_extension": ".py",
   "mimetype": "text/x-python",
   "name": "python",
   "nbconvert_exporter": "python",
   "pygments_lexer": "ipython3",
   "version": "3.11.7"
  }
 },
 "nbformat": 4,
 "nbformat_minor": 5
}
