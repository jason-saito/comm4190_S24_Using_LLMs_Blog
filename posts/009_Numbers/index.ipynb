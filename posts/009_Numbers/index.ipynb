{
 "cells": [
  {
   "cell_type": "markdown",
   "id": "80b2172e-d70d-491e-b47d-a80a13a81c34",
   "metadata": {},
   "source": [
    "---\n",
    "title: \"LLMs + Numerical Analysis\"\n",
    "description: \"What is it and how can it be used?\"\n",
    "author: \"Jason Saito\"\n",
    "date: \"3/5/2024\"\n",
    "categories:\n",
    "- RAG\n",
    "- Media\n",
    "- Generative AI\n",
    "---"
   ]
  },
  {
   "cell_type": "code",
   "execution_count": null,
   "id": "c2fdc744-52a8-4dd8-945f-f2a92e2419f5",
   "metadata": {},
   "outputs": [],
   "source": []
  }
 ],
 "metadata": {
  "citation-manager": {
   "items": {}
  },
  "kernelspec": {
   "display_name": "Python 3.11 (COMM4190)",
   "language": "python",
   "name": "comm4190"
  },
  "language_info": {
   "codemirror_mode": {
    "name": "ipython",
    "version": 3
   },
   "file_extension": ".py",
   "mimetype": "text/x-python",
   "name": "python",
   "nbconvert_exporter": "python",
   "pygments_lexer": "ipython3",
   "version": "3.11.7"
  }
 },
 "nbformat": 4,
 "nbformat_minor": 5
}
