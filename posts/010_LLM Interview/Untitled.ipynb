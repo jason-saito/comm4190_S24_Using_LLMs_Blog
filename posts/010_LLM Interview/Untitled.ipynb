{
 "cells": [
  {
   "cell_type": "markdown",
   "id": "fa9a1a96-55cd-4abe-b6c0-2ca9323dc944",
   "metadata": {},
   "source": [
    "---\n",
    "title: \"GPT4All\"\n",
    "description: \"Exploring various tools and history of AI-generated Music\"\n",
    "author: \"Jason Saito\"\n",
    "date: \"3/5/2024\"\n",
    "categories:\n",
    "- Music\n",
    "- Media\n",
    "- Generative AI\n",
    "---"
   ]
  }
 ],
 "metadata": {
  "citation-manager": {
   "items": {}
  },
  "kernelspec": {
   "display_name": "Python 3.11 (COMM4190)",
   "language": "python",
   "name": "comm4190"
  },
  "language_info": {
   "codemirror_mode": {
    "name": "ipython",
    "version": 3
   },
   "file_extension": ".py",
   "mimetype": "text/x-python",
   "name": "python",
   "nbconvert_exporter": "python",
   "pygments_lexer": "ipython3",
   "version": "3.11.7"
  }
 },
 "nbformat": 4,
 "nbformat_minor": 5
}
