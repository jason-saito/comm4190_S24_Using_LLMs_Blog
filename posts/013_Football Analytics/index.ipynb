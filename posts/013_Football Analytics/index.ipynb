{
 "cells": [
  {
   "cell_type": "markdown",
   "id": "5a38f3cf-e291-4da2-91ce-9d74a0c43abe",
   "metadata": {},
   "source": [
    "---\n",
    "title: \"Foodball Analytics + LLMs\"\n",
    "description: \"Exploring RAG\"\n",
    "author: \"Jason Saito\"\n",
    "date: \"3/19/2024\"\n",
    "categories:\n",
    "- Football\n",
    "- Twelvelabs\n",
    "- Pegasus\n",
    "---"
   ]
  },
  {
   "cell_type": "code",
   "execution_count": null,
   "id": "b9f0b6c5-f231-4acd-8d3a-4ddab3541054",
   "metadata": {},
   "outputs": [],
   "source": []
  }
 ],
 "metadata": {
  "citation-manager": {
   "items": {}
  },
  "kernelspec": {
   "display_name": "Python 3.11 (COMM4190)",
   "language": "python",
   "name": "comm4190"
  },
  "language_info": {
   "codemirror_mode": {
    "name": "ipython",
    "version": 3
   },
   "file_extension": ".py",
   "mimetype": "text/x-python",
   "name": "python",
   "nbconvert_exporter": "python",
   "pygments_lexer": "ipython3",
   "version": "3.11.7"
  }
 },
 "nbformat": 4,
 "nbformat_minor": 5
}
