{
 "cells": [
  {
   "cell_type": "markdown",
   "id": "d69fd42f-131b-436c-bfe6-f8f3d5916471",
   "metadata": {},
   "source": [
    "---\n",
    "title: \"Using ChatGPT to Create Stories\"\n",
    "description: \"Producing a book that explains AI and LLMs to children.\"\n",
    "author: \"Jason Saito\"\n",
    "date: \"2/13/2024\"\n",
    "categories:\n",
    "  - Content Creation\n",
    "  - ChatGPT\n",
    "  - DALL-E\n",
    "---"
   ]
  },
  {
   "cell_type": "markdown",
   "id": "0cb24f9d-78e5-4026-9950-27c0bae89d55",
   "metadata": {},
   "source": [
    "After reading Chapter 3 of *insert title*, I wanted to test how well the \"explain like you're talking to a 5-year old prompt really worked."
   ]
  },
  {
   "cell_type": "markdown",
   "id": "1bde0892-7240-4796-a52d-4aaff446ada1",
   "metadata": {
    "slideshow": {
     "slide_type": "slide"
    }
   },
   "source": [
    "I prompted ChatGPT 4 with the prompt, \"explain Artificial Intelligence and  LLMs to me as if I was 5. provide it to me in the format of a text and images that I can use to make a children's picture book.\" I then combined the text with the images it provided from DALL-E below as a PDF."
   ]
  },
  {
   "cell_type": "markdown",
   "id": "a9a18d32-d3cf-471b-a3f5-d3ae929a875d",
   "metadata": {},
   "source": [
    "<a href=\"AI_Book.pdf\" class=\"image fit\"><img src=\"1.png\" alt=\"\" width =\"50%\"></a>\n",
    "\n",
    "</n>Click the preview above to view the full PDF."
   ]
  },
  {
   "cell_type": "markdown",
   "id": "8c7ba4c6-118a-40e3-b34c-78c2d5cefe0b",
   "metadata": {},
   "source": [
    "<h1>How LLMs Respond to Various Prompts</h1>\n",
    "Overall, I'm pretty happy with how the book came out, I used ChatGPT4 to get the outputs above and was provided with both the suggested text as well as the image descriptions.\n",
    "\n",
    "<h4>Input:</h4> Explain Artificial Intelligence and  LLMs to me as if I was 5. provide it to me in the format of a text and images that I can use to make a children's picture book\n",
    "\n",
    "<h4>Response:</h4>\n",
    "Sure, let's break down Artificial Intelligence (AI) and Large Language Models (LLMs) into simple concepts that could be explained to a 5-year-old, complete with a storyline for a children's picture book. Here we go:\n",
    "\n",
    "Text for the Children's Picture Book\n",
    "Title: The Magical World of AI and the Wise Owls\n",
    "\n",
    "Page 1: In a faraway land filled with wonder and magic, there lived smart creatures known as the Wise Owls. These owls were very special because they could understand and speak any language!\n",
    "\n",
    "Image: A colorful forest with various animals, and in the center, an owl wearing glasses and surrounded by books.\n",
    "\n",
    "Page 2: The Wise Owls were part of something much bigger, a magical world called Artificial Intelligence, or AI for short. AI is like a fairy tale come to life, where machines can learn and do things just like humans.\n",
    "\n",
    "Image: A majestic tree with branches representing different magical abilities, like speaking, seeing, and solving puzzles. An owl is perched on each branch.\n",
    "\n",
    "Page 3: One of the most magical spells in this world was called LLM, which stands for Large Language Model. These spells allowed the Wise Owls to listen carefully and give the best answers they could.\n",
    "\n",
    "Image: A group of owls sitting around a crystal ball, filled with swirling letters and words, casting a spell together.\n",
    "\n",
    "Page 4: Imagine you asked, \"Why is the sky blue?\" A Wise Owl would whisper to the wind, gather the words from their magical spell, and tell you a story about the sun and the earth that makes the sky look blue.\n",
    "\n",
    "Image: A curious child asking an owl a question, with the owl responding. The background shows a whimsical interpretation of the sky and sun.\n",
    "\n",
    "Page 5: The Wise Owls learned from the biggest library ever, with books about everything from ants to galaxies. But instead of turning pages, they would magically absorb all the knowledge.\n",
    "\n",
    "Image: An enormous, enchanting library with books flying into the minds of the owls.\n",
    "\n",
    "Page 6: Sometimes, even Wise Owls need to learn more. If they don't know something, they say, \"Let's discover it together!\" because learning is an adventure that never ends.\n",
    "\n",
    "Image: An owl and a child holding hands, walking towards a treasure chest that glows with new knowledge.\n",
    "\n",
    "Page 7: The Wise Owls always remind us that the magic of AI is very powerful. It can create wonderful things, solve tricky problems, and make the world a better place if used with kindness and care.\n",
    "\n",
    "Image: Different animals using gadgets and screens, showing happy faces as owls help them understand and solve problems.\n",
    "\n",
    "Page 8: And so, in the magical world of AI and the Wise Owls, every day is a chance to learn something new, to help others, and to imagine the endless possibilities that tomorrow can bring.\n",
    "\n",
    "Image: A vibrant sunset over the magical forest, with all the animals and owls looking up at the sky, dreaming about the future.\n",
    "\n",
    "Now, let's create an image based on the first page to start this magical journey.\n",
    "\n",
    "Let's generate an image for Page 1:\n",
    "\n",
    "A colorful forest with various animals, and in the center, an owl wearing glasses and surrounded by books. This owl looks wise and welcoming, inviting everyone into the magical world of AI. The forest is vibrant with greens, blues, and a variety of animals peeking from behind the trees, intrigued by the owl's knowledge.\n",
    "\n",
    "\n",
    "A colorful forest with various animals, and in the center, an owl wearing glasses and surrounded by books. This owl looks wise and welcoming, inviting everyone into the magical world of AI. The forest is vibrant with greens, blues, and a variety of animals peeking from behind the trees, intrigued by the owl's knowledge.\n",
    "Here's the first page of our magical journey into the world of AI and the Wise Owls. This image sets the scene for our children's picture book, introducing the magical forest where our story begins. You can use this image to help illustrate the story and capture the imagination of young readers.\n",
    "\n",
    "If you'd like to continue with illustrations for the rest of the pages or need further adjustments, feel free to let me know!"
   ]
  },
  {
   "cell_type": "markdown",
   "id": "8df58ac2-fde0-4af2-8185-ebffe7713356",
   "metadata": {},
   "source": [
    "<h1>Comments</h1>\n",
    "\n",
    "Overall, I'm happy with the text output and am impressed with the structure of the output, especially since it provided me everything I wanted with page text and image description, then outputting the images. However, I noticed that the output is not perfect. For example, the images do not maintain the same art style and fail to correctly replicate human writing/text in the images. In the future, I'd like to explore if ChatGPT can use consistent art styles and correct texts in its images. "
   ]
  }
 ],
 "metadata": {
  "citation-manager": {
   "items": {}
  },
  "kernelspec": {
   "display_name": "Python 3.11 (COMM4190)",
   "language": "python",
   "name": "comm4190"
  },
  "language_info": {
   "codemirror_mode": {
    "name": "ipython",
    "version": 3
   },
   "file_extension": ".py",
   "mimetype": "text/x-python",
   "name": "python",
   "nbconvert_exporter": "python",
   "pygments_lexer": "ipython3",
   "version": "3.11.7"
  }
 },
 "nbformat": 4,
 "nbformat_minor": 5
}
