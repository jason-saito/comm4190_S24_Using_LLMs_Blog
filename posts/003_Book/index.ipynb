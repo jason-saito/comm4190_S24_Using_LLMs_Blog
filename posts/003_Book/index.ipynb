{
 "cells": [
  {
   "cell_type": "markdown",
   "id": "d69fd42f-131b-436c-bfe6-f8f3d5916471",
   "metadata": {},
   "source": [
    "---\n",
    "title: \"Using ChatGPT to Create Stories\"\n",
    "description: \"An example post from a Jupyter notebook\"\n",
    "author: \"Jason Saito\"\n",
    "date: \"2/13/2024\"\n",
    "categories:\n",
    "  - LLMs\n",
    "  - Doll-e\n",
    "  - Image generation\n",
    "---"
   ]
  },
  {
   "cell_type": "markdown",
   "id": "0cb24f9d-78e5-4026-9950-27c0bae89d55",
   "metadata": {},
   "source": [
    "After reading Chapter 3 of *insert title*, I wanted to test how well the \"explain like you're talking to a 5-year old prompt really worked."
   ]
  },
  {
   "cell_type": "markdown",
   "id": "1bde0892-7240-4796-a52d-4aaff446ada1",
   "metadata": {
    "slideshow": {
     "slide_type": "slide"
    }
   },
   "source": [
    "I prompted ChatGPT 4 with the prompt, \"explain Artificial Intelligence and  LLMs to me as if I was 5. provide it to me in the format of a text and images that I can use to make a children's picture book.\" I then combined the text with the images it provided from Doll-E below as a PDF."
   ]
  },
  {
   "cell_type": "markdown",
   "id": "a9a18d32-d3cf-471b-a3f5-d3ae929a875d",
   "metadata": {},
   "source": [
    "<a href=\"AI_Book.pdf\" class=\"image fit\"><img src=\"1.png\" alt=\"\" width =\"50%\"></a>\n",
    "Click the preview above to view the full PDF."
   ]
  },
  {
   "cell_type": "markdown",
   "id": "8c7ba4c6-118a-40e3-b34c-78c2d5cefe0b",
   "metadata": {},
   "source": []
  }
 ],
 "metadata": {
  "citation-manager": {
   "items": {}
  },
  "kernelspec": {
   "display_name": "Python 3.11 (COMM4190)",
   "language": "python",
   "name": "comm4190"
  },
  "language_info": {
   "codemirror_mode": {
    "name": "ipython",
    "version": 3
   },
   "file_extension": ".py",
   "mimetype": "text/x-python",
   "name": "python",
   "nbconvert_exporter": "python",
   "pygments_lexer": "ipython3",
   "version": "3.11.7"
  }
 },
 "nbformat": 4,
 "nbformat_minor": 5
}
