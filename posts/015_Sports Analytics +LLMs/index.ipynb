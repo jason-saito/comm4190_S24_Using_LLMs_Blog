{
 "cells": [
  {
   "cell_type": "markdown",
   "id": "d35023b7-e27e-4fdf-8502-37d257818eac",
   "metadata": {},
   "source": [
    "---\n",
    "title: \"LLMs and Basketball Analytics\"\n",
    "description: \"Can LLMs understand sports analytics?\"\n",
    "author: \"Jason Saito\"\n",
    "date: \"3/28/2024\"\n",
    "categories:\n",
    "- Sports Analytics\n",
    "- Mixtral Instruct\n",
    "- Gemini\n",
    "---"
   ]
  },
  {
   "cell_type": "code",
   "execution_count": null,
   "id": "1ffaf373-22e9-4d3f-97bc-f13b784e074b",
   "metadata": {},
   "outputs": [],
   "source": []
  }
 ],
 "metadata": {
  "citation-manager": {
   "items": {}
  },
  "kernelspec": {
   "display_name": "Python 3.11 (COMM4190)",
   "language": "python",
   "name": "comm4190"
  },
  "language_info": {
   "codemirror_mode": {
    "name": "ipython",
    "version": 3
   },
   "file_extension": ".py",
   "mimetype": "text/x-python",
   "name": "python",
   "nbconvert_exporter": "python",
   "pygments_lexer": "ipython3",
   "version": "3.11.7"
  }
 },
 "nbformat": 4,
 "nbformat_minor": 5
}
