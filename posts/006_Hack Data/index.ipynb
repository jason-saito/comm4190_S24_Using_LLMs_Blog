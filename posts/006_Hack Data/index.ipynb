{
 "cells": [
  {
   "cell_type": "markdown",
   "id": "0659f4c7-2b93-4600-abe8-08f9fbbe0541",
   "metadata": {},
   "source": []
  },
  {
   "cell_type": "markdown",
   "id": "2b02b28d-9347-4aab-b327-5b8880aeefd3",
   "metadata": {},
   "source": [
    "<h1>Unlabeled Data</h1>\n",
    "use the Open LLM from Stanford"
   ]
  }
 ],
 "metadata": {
  "citation-manager": {
   "items": {}
  },
  "kernelspec": {
   "display_name": "Python 3.11 (COMM4190)",
   "language": "python",
   "name": "comm4190"
  },
  "language_info": {
   "codemirror_mode": {
    "name": "ipython",
    "version": 3
   },
   "file_extension": ".py",
   "mimetype": "text/x-python",
   "name": "python",
   "nbconvert_exporter": "python",
   "pygments_lexer": "ipython3",
   "version": "3.11.7"
  }
 },
 "nbformat": 4,
 "nbformat_minor": 5
}
