{
 "cells": [
  {
   "cell_type": "markdown",
   "id": "c7087c45-eef0-49b5-bdf2-3617442d17ae",
   "metadata": {},
   "source": [
    "---\n",
    "title: \"GPT4All\"\n",
    "description: \"What is GPT4All?\"\n",
    "author: \"Jason Saito\"\n",
    "date: \"3/1/2024\"\n",
    "categories:\n",
    "- GPT4All\n",
    "- LLMs\n",
    "- Local Models\n",
    "---"
   ]
  },
  {
   "cell_type": "markdown",
   "id": "3058a445-b566-408a-83c2-7f57138e2f23",
   "metadata": {},
   "source": []
  },
  {
   "cell_type": "code",
   "execution_count": null,
   "id": "9c9629c3-d829-4f1f-a42c-36d9b3bbb6df",
   "metadata": {},
   "outputs": [],
   "source": []
  }
 ],
 "metadata": {
  "citation-manager": {
   "items": {}
  },
  "kernelspec": {
   "display_name": "Python 3.11 (COMM4190)",
   "language": "python",
   "name": "comm4190"
  },
  "language_info": {
   "codemirror_mode": {
    "name": "ipython",
    "version": 3
   },
   "file_extension": ".py",
   "mimetype": "text/x-python",
   "name": "python",
   "nbconvert_exporter": "python",
   "pygments_lexer": "ipython3",
   "version": "3.11.7"
  }
 },
 "nbformat": 4,
 "nbformat_minor": 5
}
