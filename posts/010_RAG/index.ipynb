{
 "cells": [
  {
   "cell_type": "markdown",
   "id": "8e0dd4c0-4331-403d-9971-9c0d36fa82af",
   "metadata": {},
   "source": [
    "---\n",
    "title: \"Introduction to Retreival Augmented Generation\"\n",
    "description: \"Exploring RAG\"\n",
    "author: \"Jason Saito\"\n",
    "date: \"3/26/2024\"\n",
    "categories:\n",
    "- RAG\n",
    "- Langchain\n",
    "---"
   ]
  },
  {
   "cell_type": "markdown",
   "id": "d2668dc7-8dfd-42a6-b422-b792adbe629f",
   "metadata": {},
   "source": [
    "<h1>What is Retreival Augmented Generation?</h1>\n",
    "\n",
    "Retrieval Augmented Generation can be broken down into 3 different steps. \n",
    "\n",
    "The term retrieval comes from the idea that the user asks a question, and the chatbot searches and finds the most similar data from the data that you provided it. \n",
    "\n",
    "The augmentation occurs when the prompt and additional context from the data are used to change the “prompt template.” \n",
    "\n",
    "The generation ultimately occurs when the response is provided back.  \n",
    "\n",
    "\n",
    "<h1>Why Use It?</h1>\n",
    "\n",
    "There are three main issues with LLMs in general. First, there is a lack of domain/internal knowledge that you might have since models are trained on publicly available data. This means that models can’t answer questions about your business or any other more-personalized tasks that you might want to explore. \n",
    "\n",
    "Second, LLMs often hallucinate. Although LLMs can seem very confident in their response, they can provide incorrect answers to your questions.\n",
    "\n",
    "Third, the training cut off. In all models, there is a date cut off in data that the model was trained with. This means if you want to ask questions about current information, you won’t get a correct response since the model is unaware of this data. \n",
    "\n",
    "RAG aims to solve these issues by allowing you to embed new/more-specified data to achieve more personalized results.\n",
    "\n",
    "<img src = \"rag.png\">\n",
    "\n",
    "<h1>Examples of How RAG is Used</h1>\n",
    "\n",
    "\n",
    "<h3>Sources</h3>\n",
    "- https://www.databricks.com/glossary/retrieval-augmented-generation-rag \n",
    "- https://www.youtube.com/watch?v=2l1IPCfyDjY"
   ]
  }
 ],
 "metadata": {
  "citation-manager": {
   "items": {}
  },
  "kernelspec": {
   "display_name": "Python 3.11 (COMM4190)",
   "language": "python",
   "name": "comm4190"
  },
  "language_info": {
   "codemirror_mode": {
    "name": "ipython",
    "version": 3
   },
   "file_extension": ".py",
   "mimetype": "text/x-python",
   "name": "python",
   "nbconvert_exporter": "python",
   "pygments_lexer": "ipython3",
   "version": "3.11.7"
  }
 },
 "nbformat": 4,
 "nbformat_minor": 5
}
