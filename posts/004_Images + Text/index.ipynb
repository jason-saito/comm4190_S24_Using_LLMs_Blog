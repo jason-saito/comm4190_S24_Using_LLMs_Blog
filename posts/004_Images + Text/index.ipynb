{
 "cells": [
  {
   "cell_type": "markdown",
   "id": "c7c02605-bc44-42f5-a64e-c43adbbda500",
   "metadata": {},
   "source": [
    "---\n",
    "title: \"Exploring Large Vision-Language Models\"\n",
    "description: \"Can AI comment on patterns and count?\"\n",
    "author: \"Jason Saito\"\n",
    "date: \"2/15/2024\"\n",
    "categories:\n",
    "- LLava\n",
    "- Vision-Language models\n",
    "- Puzzles\n",
    "---"
   ]
  },
  {
   "cell_type": "markdown",
   "id": "9a98f6cc-e1fa-44e0-ac39-b63ad5156094",
   "metadata": {},
   "source": [
    "<h1>Introduction</h1>\n",
    "I decided to re-explore a concept brought upon in my <a href = \"https://jason-saito.github.io/comm4190_S24_Using_LLMs_Blog/posts/002_testing_logic/\">Second Blog Post</a>, where I tested if AI could solve riddles. This blog post will explore how AI interacts with images."
   ]
  },
  {
   "attachments": {},
   "cell_type": "markdown",
   "id": "df8ebaf3-e6e2-491c-b0ce-bf0543b0f1c4",
   "metadata": {},
   "source": [
    "<h1>Returning to the Riddles</h1>\n",
    "I began by providing the llava-v1.6-24b model the same image from my initial post, prompting it to state the number of matches in the image.\n",
    "\n",
    "<img src = 'riddle.jpeg' width = \"300\">\n",
    "\n",
    "While the correct answer is 15 matches, the model said that \"There are 12 matches in the image.\" \n",
    "\n",
    "I attempted to correct it by saying, \"note that matches in this image are of varying sizes, some are smaller than others, but are still considered matches.\" However, it still believed its answer was correct, it said \"Thank you for the clarification. In that case, there are 12 matches in total, including the varying sizes.\" \n",
    "\n",
    "I then attempted to correct it and prompted it with \"this is incorrect, please recalculate and provide reasoning for your answer.\" However, its response was \n",
    "\"I apologize for the mistake. Let's recalculate the number of matches in the image.\n",
    "\n",
    "There are 12 matches in total, including the varying sizes. The image shows a total of 12 matches, with some being smaller than others.\"\n",
    "\n",
    "In this case, the model failed to recognize the correct number of matches in the image. "
   ]
  },
  {
   "cell_type": "markdown",
   "id": "d9a7dbb9-df76-4b0e-afaf-09f7e69bced2",
   "metadata": {},
   "source": [
    "<h1>Interpreting Data Visualizations</h1>\n",
    "I was curious to see how the model interpreted data and provided it a sample pie chart I found from google. \n",
    "\n",
    "<img src = 'water.png' width = 30%>\n",
    "\n",
    "I prompted it with the goal of giving it context about the type of graph and exactly what I wanted to learn about the data. I prompted it with \"based on the image provided, interpret the data and describe how water usage is broken down in the pie chart.\" I was shocked by its response: \n",
    "\n",
    "\"The pie chart in the image illustrates the breakdown of water usage in a residential setting. It is divided into six categories, each representing a different source of water consumption. Here's the breakdown as shown in the chart:\n",
    "\n",
    "Shower - 16.8%\n",
    "This category represents the water used for showering, which is the second-largest contributor to residential water usage.\n",
    "\n",
    "Toilet - 26.7%\n",
    "The toilet is the largest single source of water usage in a residential setting, accounting for nearly a quarter of the total.\n",
    "\n",
    "Faucet - 15.7%\n",
    "Water used at the faucet, likely for activities such as washing hands and brushing teeth, is the third-largest category.\n",
    "\n",
    "Clothes Washer - 21.7%\n",
    "The water used for washing clothes in a clothes washer is the fourth-largest category.\n",
    "\n",
    "Leaks - 13.7%\n",
    "Water leaks, which can occur in various parts of a home, such as faucets, pipes, or appliances, account for 13.7% of residential water usage.\n",
    "\n",
    "Other - 5.3%\n",
    "This category includes all other sources of water usage that do not fit into the other five categories. It is the smallest category on the chart.\n",
    "\n",
    "The chart is sourced from the American Water Works Association Research Foundation, and it is based on data from 1999. It provides a visual representation of where most of the water used in a residential home goes, highlighting the importance of water conservation efforts in areas such as toilet and faucet usage.\"\n",
    "\n",
    "Shockingly, it was able to successfully describe the pie chart, the exact breakdown of the chart, as well as where the image was from. This was a stark contrast from the previous experiment I ran with the matches puzzle. \n"
   ]
  },
  {
   "cell_type": "markdown",
   "id": "40e19f1f-90c8-45ba-b4aa-90325807f182",
   "metadata": {},
   "source": [
    "<h1>Conclusion</h1>\n",
    "\n",
    "I was overall pleased with the results and felt like the model did a solid job of recognizing the image and interpreting the data. However, I noticed that it struggled to recognize the \"matches\" when they were different sizes in the first image. In the future, I hope to explore how the model reacts to different types of charts and data. "
   ]
  }
 ],
 "metadata": {
  "citation-manager": {
   "items": {}
  },
  "kernelspec": {
   "display_name": "Python 3.11 (COMM4190)",
   "language": "python",
   "name": "comm4190"
  },
  "language_info": {
   "codemirror_mode": {
    "name": "ipython",
    "version": 3
   },
   "file_extension": ".py",
   "mimetype": "text/x-python",
   "name": "python",
   "nbconvert_exporter": "python",
   "pygments_lexer": "ipython3",
   "version": "3.11.7"
  }
 },
 "nbformat": 4,
 "nbformat_minor": 5
}
