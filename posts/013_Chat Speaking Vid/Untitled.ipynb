{
 "cells": [
  {
   "cell_type": "markdown",
   "id": "5ac5c018-e836-405c-bcf7-57df5a171f80",
   "metadata": {},
   "source": [
    "---\n",
    "title: \"Talking with ChatGPT\"\n",
    "description: \"Exploring RAG\"\n",
    "author: \"Jason Saito\"\n",
    "date: \"3/14/2024\"\n",
    "categories:\n",
    "- RAG\n",
    "- Langchain\n",
    "---"
   ]
  },
  {
   "cell_type": "code",
   "execution_count": null,
   "id": "606d3233-be72-42bd-b466-4d9c0d167479",
   "metadata": {},
   "outputs": [],
   "source": []
  }
 ],
 "metadata": {
  "citation-manager": {
   "items": {}
  },
  "kernelspec": {
   "display_name": "Python 3.11 (COMM4190)",
   "language": "python",
   "name": "comm4190"
  },
  "language_info": {
   "codemirror_mode": {
    "name": "ipython",
    "version": 3
   },
   "file_extension": ".py",
   "mimetype": "text/x-python",
   "name": "python",
   "nbconvert_exporter": "python",
   "pygments_lexer": "ipython3",
   "version": "3.11.7"
  }
 },
 "nbformat": 4,
 "nbformat_minor": 5
}
