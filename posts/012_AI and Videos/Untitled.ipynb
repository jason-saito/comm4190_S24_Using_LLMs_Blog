{
 "cells": [
  {
   "cell_type": "markdown",
   "id": "a7a43106-3332-44e8-84bd-26a627a1457d",
   "metadata": {},
   "source": [
    "---\n",
    "title: \"AI & Video Analysis\"\n",
    "description: \"Exploring RAG\"\n",
    "author: \"Jason Saito\"\n",
    "date: \"3/14/2024\"\n",
    "categories:\n",
    "- RAG\n",
    "- Langchain\n",
    "---"
   ]
  },
  {
   "cell_type": "code",
   "execution_count": null,
   "id": "deb0dd66-c921-435c-b84b-79f9afea1de1",
   "metadata": {},
   "outputs": [],
   "source": []
  }
 ],
 "metadata": {
  "citation-manager": {
   "items": {}
  },
  "kernelspec": {
   "display_name": "Python 3.11 (COMM4190)",
   "language": "python",
   "name": "comm4190"
  },
  "language_info": {
   "codemirror_mode": {
    "name": "ipython",
    "version": 3
   },
   "file_extension": ".py",
   "mimetype": "text/x-python",
   "name": "python",
   "nbconvert_exporter": "python",
   "pygments_lexer": "ipython3",
   "version": "3.11.7"
  }
 },
 "nbformat": 4,
 "nbformat_minor": 5
}
