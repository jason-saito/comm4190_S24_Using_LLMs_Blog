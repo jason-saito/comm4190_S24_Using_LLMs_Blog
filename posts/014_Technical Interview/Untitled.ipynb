{
 "cells": [
  {
   "cell_type": "markdown",
   "id": "18da5370-1d72-4432-9db5-2aeccfb2764f",
   "metadata": {},
   "source": [
    "---\n",
    "title: \"Passing the Technical Interview\"\n",
    "description: \"Exploring RAG\"\n",
    "author: \"Jason Saito\"\n",
    "date: \"3/21/2024\"\n",
    "categories:\n",
    "- RAG\n",
    "- Langchain\n",
    "---"
   ]
  },
  {
   "cell_type": "code",
   "execution_count": null,
   "id": "527f43de-e5a8-42be-8685-b3deb49cf76a",
   "metadata": {},
   "outputs": [],
   "source": []
  }
 ],
 "metadata": {
  "citation-manager": {
   "items": {}
  },
  "kernelspec": {
   "display_name": "Python 3.11 (COMM4190)",
   "language": "python",
   "name": "comm4190"
  },
  "language_info": {
   "codemirror_mode": {
    "name": "ipython",
    "version": 3
   },
   "file_extension": ".py",
   "mimetype": "text/x-python",
   "name": "python",
   "nbconvert_exporter": "python",
   "pygments_lexer": "ipython3",
   "version": "3.11.7"
  }
 },
 "nbformat": 4,
 "nbformat_minor": 5
}
