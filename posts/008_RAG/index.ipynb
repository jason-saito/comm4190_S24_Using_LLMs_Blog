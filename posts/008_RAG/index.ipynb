{
 "cells": [
  {
   "cell_type": "markdown",
   "id": "1569c1fe-3327-4005-b0a1-844f82cc422e",
   "metadata": {},
   "source": [
    "---\n",
    "title: \"Exploring Retrieval Augmented Generation\"\n",
    "description: \"What is it and how can it be used?\"\n",
    "author: \"Jason Saito\"\n",
    "date: \"2/29/2024\"\n",
    "categories:\n",
    "- Retrieval Augmented Generation\n",
    "- Content Creation\n",
    "- Generative AI\n",
    "---"
   ]
  },
  {
   "cell_type": "markdown",
   "id": "48624658-9f71-40ef-87af-bae6fe5e95b1",
   "metadata": {},
   "source": [
    "# What is Retrieval Augmented Generation: \n",
    "Retrieval Augmented Generation can be broken down into 3 different steps. The term Retrieval comes from the idea that the user asks a question, and the chatbot searches and finds the most similar data from the data that you provided it. The Augmentation occurs when the prompt and additional context from the data are used to change the “prompt template.” The generation ultimately occurs when the response is provided back.  \n",
    "\n",
    "# When you should use it: \n",
    "There are three main issues with LLMs in general: :\n",
    "First, there is a lack of domain/internal knowledge that you might have since models are trained on publicly available data. This means that models can’t answer questions about your business or any other more-personalized tasks that you might want to explore. \n",
    "\n",
    "Second, LLMs often hallucinate. Although LLMs can seem very confident in their response, they can provide incorrect answers to your questions.\n",
    "\n",
    "Third, the training cut off. In all models, there is a date cut off in data that the model was trained with. This means if you want to ask questions about current information, you won’t get a correct response since the model is unaware of this data. \n",
    "\n",
    "However, all hope is not lost. As, Retrieval Augmented Generation (RAG) has become one of the frontrunners to solving all of these issues. \n"
   ]
  },
  {
   "cell_type": "markdown",
   "id": "f96c97db-f639-46b4-ab4e-35c1f82702ef",
   "metadata": {},
   "source": [
    "# Technical Breakdown\n",
    "\n",
    "The user can ask a question to the model like they normally would. Then the model searches for semantically similar data points. Usually this means breaking various documents into seperate chunks/tokens that can be then embedded into the vector database. Once it finds semantically similar data to the question, it \"augments\" the response using the similar data that if found. It ultimately feeds this context/similar data into the prompt that is called to the LLM. The LLM then sends a response back to the user that has been \"generated\" based on the augmentation of the data."
   ]
  },
  {
   "cell_type": "markdown",
   "id": "555f0a8b-ae26-456b-9940-9818b1d1c092",
   "metadata": {},
   "source": [
    "<img src = \"RAG.png\">"
   ]
  },
  {
   "cell_type": "code",
   "execution_count": null,
   "id": "3e079e67-8782-456f-b6b4-f41d84417851",
   "metadata": {},
   "outputs": [],
   "source": []
  }
 ],
 "metadata": {
  "citation-manager": {
   "items": {}
  },
  "kernelspec": {
   "display_name": "Python 3.11 (COMM4190)",
   "language": "python",
   "name": "comm4190"
  },
  "language_info": {
   "codemirror_mode": {
    "name": "ipython",
    "version": 3
   },
   "file_extension": ".py",
   "mimetype": "text/x-python",
   "name": "python",
   "nbconvert_exporter": "python",
   "pygments_lexer": "ipython3",
   "version": "3.11.7"
  }
 },
 "nbformat": 4,
 "nbformat_minor": 5
}
