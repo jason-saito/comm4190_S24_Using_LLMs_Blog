{
 "cells": [
  {
   "cell_type": "raw",
   "id": "9cc8f75e-7f5e-42fb-ad9e-1bb84b657f8b",
   "metadata": {},
   "source": [
    "---\n",
    "title: \"A test post\"\n",
    "description: \"An example post from a Jupyter notebook\"\n",
    "author: \"An LLM User\"\n",
    "date: \"2/2/2024\"\n",
    "categories:\n",
    "  - LLMs\n",
    "  - prompting\n",
    "  - logic\n",
    "---"
   ]
  },
  {
   "cell_type": "markdown",
   "id": "4a01bd64-7fe7-4fe4-b231-68124a788331",
   "metadata": {},
   "source": [
    "I'm just testing that this actually works"
   ]
  }
 ],
 "metadata": {
  "citation-manager": {
   "items": {}
  },
  "kernelspec": {
   "display_name": "Python 3.11 (COMM4190)",
   "language": "python",
   "name": "comm4190"
  },
  "language_info": {
   "codemirror_mode": {
    "name": "ipython",
    "version": 3
   },
   "file_extension": ".py",
   "mimetype": "text/x-python",
   "name": "python",
   "nbconvert_exporter": "python",
   "pygments_lexer": "ipython3",
   "version": "3.11.7"
  }
 },
 "nbformat": 4,
 "nbformat_minor": 5
}
