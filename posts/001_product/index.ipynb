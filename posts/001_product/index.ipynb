{
 "cells": [
  {
   "cell_type": "raw",
   "id": "9cc8f75e-7f5e-42fb-ad9e-1bb84b657f8b",
   "metadata": {},
   "source": [
    "---\n",
    "title: \"A test post\"\n",
    "description: \"An example post from a Jupyter notebook\"\n",
    "author: \"An LLM User\"\n",
    "date: \"2/6/2024\"\n",
    "categories:\n",
    "  - LLMs\n",
    "  - prompting\n",
    "  - logic\n",
    "---"
   ]
  },
  {
   "cell_type": "markdown",
   "id": "4a01bd64-7fe7-4fe4-b231-68124a788331",
   "metadata": {},
   "source": [
    "I'm just testing that this actually works"
   ]
  },
  {
   "cell_type": "markdown",
   "id": "f2a23035-7a2a-4bec-a4cc-0b3f1d09cfa5",
   "metadata": {},
   "source": [
    "how LLMs respond to specific prompts\n",
    "whether they are are able or unable to mirror certain human communicative behaviors (e.g. recognize and use idioms)\n",
    "demonstrate the use of an LLM for a specific task (e.g. generating product names, descriptions and branding)"
   ]
  },
  {
   "cell_type": "markdown",
   "id": "110c9b62-cbb4-4b30-9e46-b17fb6b781e5",
   "metadata": {},
   "source": [
    "###how LLMs respond to specific prompts"
   ]
  },
  {
   "cell_type": "code",
   "execution_count": null,
   "id": "494e72d9-3f7f-48f0-bb0b-f5bbb8017948",
   "metadata": {},
   "outputs": [],
   "source": []
  }
 ],
 "metadata": {
  "citation-manager": {
   "items": {}
  },
  "kernelspec": {
   "display_name": "Python 3.11 (COMM4190)",
   "language": "python",
   "name": "comm4190"
  },
  "language_info": {
   "codemirror_mode": {
    "name": "ipython",
    "version": 3
   },
   "file_extension": ".py",
   "mimetype": "text/x-python",
   "name": "python",
   "nbconvert_exporter": "python",
   "pygments_lexer": "ipython3",
   "version": "3.11.7"
  }
 },
 "nbformat": 4,
 "nbformat_minor": 5
}
