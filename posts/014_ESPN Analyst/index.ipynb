{
 "cells": [
  {
   "cell_type": "markdown",
   "id": "18da5370-1d72-4432-9db5-2aeccfb2764f",
   "metadata": {},
   "source": [
    "---\n",
    "title: \"ESPN GPT\"\n",
    "description: \"How does ChatGPT4 show its sports knowledge\"\n",
    "author: \"Jason Saito\"\n",
    "date: \"3/21/2024\"\n",
    "categories:\n",
    "- Sports\n",
    "- Videos\n",
    "- Media\n",
    "---"
   ]
  },
  {
   "attachments": {},
   "cell_type": "markdown",
   "id": "8a333667-afa0-471d-ad9f-fcb4832c6903",
   "metadata": {},
   "source": [
    "# Introduction\n",
    "\n",
    "<img src = \"aiespn.webp\" width = 50% horizontal-align: middle>\n",
    "I was intrigued to see how ChatGPT 4 interpreted sports and gave its opinion on sports topics. Thus, I decided to feed it one of the most famous ESPN debates of all time between Max Kellerman and Steven A. Smith. \n",
    "\n",
    "<a href = \"https://www.youtube.com/watch?v=lZVtF4r90_A\"> The Video </a>\n",
    "\n",
    "# Process\n",
    "#### Initial Question \n",
    "I first copied the transcript of the video and asked ChatGPT to understand it.\n",
    "\n",
    "#### Response\n",
    "It looks like the transcript is from a discussion about basketball, specifically a hypothetical scenario where someone has to take a crucial shot in a game with extremely high stakes—the \"fate of the universe\" or against an imminent threat from \"Martians with a death beam.\" The speakers are debating whether they'd prefer Andre Iguodala or Stephen Curry to take this shot, emphasizing Iguodala's ability to handle high-pressure situations due to having \"ice water in his veins.\"\n",
    "\n",
    "From this conversation, the focus is on clutch performance in sports, which can be used to highlight a player's ability to perform under pressure. This could lead to a broader discussion on psychological resilience in athletes or the importance of mental toughness in high-stakes scenarios.\n",
    "\n",
    "If you need any specific analysis or further breakdown of the dialogue or the context in which these remarks were made, let me know!\n",
    "\n",
    "#### Second Prompt\n",
    "Pretend that you are on that ESPN talk show. Its June 3, 2016, the Cavaliers are playing the Warriors in the finals and you are an experienced ESPN analyst that's asked to counter Max Kellerman's point, where he regards Andre Igoudala as the most clutch player on the Golden State Warriors.\n",
    "\n",
    "how do you respond to this claim? \n",
    "\n",
    "#### Response\n",
    "On a show like this, responding to Max Kellerman’s interesting take, I’d say:\n",
    "\n",
    "“Max, I understand the sentiment behind picking Andre Iguodala; he's proven himself in big moments, no doubt. But let’s not overlook Stephen Curry here. We’re talking about a two-time MVP and the heart and soul of the Warriors. Steph’s ability to hit shots from virtually anywhere on the court changes the dynamic of every game he plays in. When it comes to a shot with the universe on the line, Curry isn't just a phenomenal shooter; he's a transformative player.\n",
    "\n",
    "While Iguodala has been clutch, particularly in defensive scenarios and with his cool demeanor, Steph's shooting range and his gravity pull defenders out, creating opportunities not just for himself but for his teammates too. His presence alone on the floor in a last-shot scenario is invaluable. It spreads the floor, it creates panic, and most importantly, it generates options. In those final seconds, that’s exactly what you want. You want a player who not only can make the shot under immense pressure but also can draw the defense and make the right play if needed.\n",
    "\n",
    "So, while Iguodala might have ice in his veins, Curry’s the one who changes the temperature of the game. That’s why, in the most critical moment, I’d still want the ball in Steph’s hands.”\n",
    "\n",
    "# Next Step\n",
    "I then copied the transcript and used the Video GPT by VEED plugin on ChatGPT 4 to make the video with the prompt:\n",
    "\n",
    "Pretend you are an ESPN analyst getting in a heated argument: Say this in the video and make the scene like you are on ESPN : On a show like this, responding to Max Kellerman’s interesting take, I’d say:\n",
    "\n",
    "“Max, I understand the sentiment behind picking Andre Iguodala; he's proven himself in big moments, no doubt. But let’s not overlook Stephen Curry here. We’re talking about a two-time MVP and the heart and soul of the Warriors. Steph’s ability to hit shots from virtually anywhere on the court changes the dynamic of every game he plays in. When it comes to a shot with the universe on the line, Curry isn't just a phenomenal shooter; he's a transformative player.\n",
    "\n",
    "While Iguodala has been clutch, particularly in defensive scenarios and with his cool demeanor, Steph's shooting range and his gravity pull defenders out, creating opportunities not just for himself but for his teammates too. His presence alone on the floor in a last-shot scenario is invaluable. It spreads the floor, it creates panic, and most importantly, it generates options. In those final seconds, that’s exactly what you want. You want a player who not only can make the shot under immense pressure but also can draw the defense and make the right play if needed.\n",
    "\n",
    "So, while Iguodala might have ice in his veins, Curry’s the one who changes the temperature of the game. That’s why, in the most critical moment, I’d still want the ball in Steph’s hands.”\n",
    "\n",
    "#### Reply\n",
    "It then told me to select an avatar for the video as well as the tone and duration of the video. \n",
    "I prompted with these inputs: \n",
    "Avatar: Noah\n",
    "Tone: Intense, emulating the atmosphere of an ESPN talk show debate.\n",
    "Duration: Extended to 30 seconds to fully capture the essence of the discussion.\n",
    "\n",
    "#### The Video\n",
    "<a href = \"https://youtu.be/PN49Nxi3Lws\"> Here is the video output!</a>\n",
    "\n",
    "# Conclusion\n",
    "\n",
    "Overall I thought the video was pretty good. I liked the clips that it selected especially the last one. I also think ChatGPT made a good and informed response to my prompt. It seemed like something an actual fan of the NBA would say and is potentially something someone would say back in 2016. I feel like this was also a good example since the data falls before ChatGPT's data cutoff. \n",
    "\n",
    "I do think that the speaker's tone could be better in the video. I asked for it to be intense but instead it took more of a narrator role.\n",
    "\n",
    "\n",
    "\n",
    "\n",
    "\n",
    "\n",
    "\n"
   ]
  },
  {
   "cell_type": "code",
   "execution_count": null,
   "id": "e55128b3-f3e4-4434-9e67-59b55bb7c12d",
   "metadata": {},
   "outputs": [],
   "source": []
  }
 ],
 "metadata": {
  "citation-manager": {
   "items": {}
  },
  "kernelspec": {
   "display_name": "Python 3.11 (COMM4190)",
   "language": "python",
   "name": "comm4190"
  },
  "language_info": {
   "codemirror_mode": {
    "name": "ipython",
    "version": 3
   },
   "file_extension": ".py",
   "mimetype": "text/x-python",
   "name": "python",
   "nbconvert_exporter": "python",
   "pygments_lexer": "ipython3",
   "version": "3.11.7"
  }
 },
 "nbformat": 4,
 "nbformat_minor": 5
}
