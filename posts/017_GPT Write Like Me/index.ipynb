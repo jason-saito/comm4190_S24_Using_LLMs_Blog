{
 "cells": [
  {
   "cell_type": "code",
   "execution_count": null,
   "id": "957efeff-8d10-43da-a631-1b14c3120e2e",
   "metadata": {},
   "outputs": [],
   "source": [
    "---\n",
    "title: \"ESPN GPT\"\n",
    "description: \"How does ChatGPT4 show its sports knowledge\"\n",
    "author: \"Jason Saito\"\n",
    "date: \"4/2/2024\"\n",
    "categories:\n",
    "- Sports\n",
    "- Videos\n",
    "- Media\n",
    "---"
   ]
  }
 ],
 "metadata": {
  "citation-manager": {
   "items": {}
  },
  "kernelspec": {
   "display_name": "Python 3.11 (COMM4190)",
   "language": "python",
   "name": "comm4190"
  },
  "language_info": {
   "codemirror_mode": {
    "name": "ipython",
    "version": 3
   },
   "file_extension": ".py",
   "mimetype": "text/x-python",
   "name": "python",
   "nbconvert_exporter": "python",
   "pygments_lexer": "ipython3",
   "version": "3.11.7"
  }
 },
 "nbformat": 4,
 "nbformat_minor": 5
}
