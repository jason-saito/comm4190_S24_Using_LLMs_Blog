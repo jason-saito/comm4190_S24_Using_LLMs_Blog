{
 "cells": [
  {
   "cell_type": "markdown",
   "id": "dfe742ba-8f2c-4efe-8271-2d5a53bb821e",
   "metadata": {},
   "source": [
    "---\n",
    "title: \"GPT Writing Like Me\"\n",
    "description: \"How does ChatGPT4 show its sports knowledge\"\n",
    "author: \"Jason Saito\"\n",
    "date: \"4/2/2024\"\n",
    "categories:\n",
    "- Sports\n",
    "- Videos\n",
    "- Media\n",
    "---"
   ]
  },
  {
   "cell_type": "code",
   "execution_count": null,
   "id": "ff60b1be-a82c-4d39-a5ab-30196ac437c6",
   "metadata": {},
   "outputs": [],
   "source": []
  }
 ],
 "metadata": {
  "citation-manager": {
   "items": {}
  },
  "kernelspec": {
   "display_name": "Python 3.11 (COMM4190)",
   "language": "python",
   "name": "comm4190"
  },
  "language_info": {
   "codemirror_mode": {
    "name": "ipython",
    "version": 3
   },
   "file_extension": ".py",
   "mimetype": "text/x-python",
   "name": "python",
   "nbconvert_exporter": "python",
   "pygments_lexer": "ipython3",
   "version": "3.11.7"
  }
 },
 "nbformat": 4,
 "nbformat_minor": 5
}
