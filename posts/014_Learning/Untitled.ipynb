{
 "cells": [
  {
   "cell_type": "markdown",
   "id": "18da5370-1d72-4432-9db5-2aeccfb2764f",
   "metadata": {},
   "source": [
    "---\n",
    "title: \"Different Types of Learning\"\n",
    "description: \"Exploring RAG\"\n",
    "author: \"Jason Saito\"\n",
    "date: \"3/21/2024\"\n",
    "categories:\n",
    "- RAG\n",
    "- Langchain\n",
    "---"
   ]
  }
 ],
 "metadata": {
  "citation-manager": {
   "items": {}
  },
  "kernelspec": {
   "display_name": "Python 3.11 (COMM4190)",
   "language": "python",
   "name": "comm4190"
  },
  "language_info": {
   "codemirror_mode": {
    "name": "ipython",
    "version": 3
   },
   "file_extension": ".py",
   "mimetype": "text/x-python",
   "name": "python",
   "nbconvert_exporter": "python",
   "pygments_lexer": "ipython3",
   "version": "3.11.7"
  }
 },
 "nbformat": 4,
 "nbformat_minor": 5
}
