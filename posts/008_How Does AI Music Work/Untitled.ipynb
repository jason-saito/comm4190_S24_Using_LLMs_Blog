{
 "cells": [
  {
   "cell_type": "markdown",
   "id": "c7087c45-eef0-49b5-bdf2-3617442d17ae",
   "metadata": {},
   "source": [
    "---\n",
    "title: \"How Does AI-Generated Music Work\"\n",
    "description: \"Exploring various tools and history of AI-generated Music\"\n",
    "author: \"Jason Saito\"\n",
    "date: \"3/1/2024\"\n",
    "categories:\n",
    "- Music\n",
    "- Media\n",
    "- Generative AI\n",
    "---"
   ]
  }
 ],
 "metadata": {
  "citation-manager": {
   "items": {}
  },
  "kernelspec": {
   "display_name": "Python 3.11 (COMM4190)",
   "language": "python",
   "name": "comm4190"
  },
  "language_info": {
   "codemirror_mode": {
    "name": "ipython",
    "version": 3
   },
   "file_extension": ".py",
   "mimetype": "text/x-python",
   "name": "python",
   "nbconvert_exporter": "python",
   "pygments_lexer": "ipython3",
   "version": "3.11.7"
  }
 },
 "nbformat": 4,
 "nbformat_minor": 5
}
