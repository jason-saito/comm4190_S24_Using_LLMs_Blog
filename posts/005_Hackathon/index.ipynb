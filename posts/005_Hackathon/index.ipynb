{
 "cells": [
  {
   "cell_type": "markdown",
   "id": "cba37250-cc00-4ae3-b848-fea419a560e9",
   "metadata": {},
   "source": [
    "---\n",
    "title: \"Exploring Generative AI\"\n",
    "description: \"My experience at a hackathon\"\n",
    "author: \"Jason Saito\"\n",
    "date: \"2/20/2024\"\n",
    "categories:\n",
    "- Sports Analytics\n",
    "- Hackathon\n",
    "- Generative AI\n",
    "---"
   ]
  },
  {
   "cell_type": "markdown",
   "id": "ceb0a509-2cbe-44b5-8576-ccc11e3db21c",
   "metadata": {},
   "source": [
    "<h1>Introduction</h1>\n",
    "\n",
    "Over the weekend, I attended my first Hackathon! It just so happens, it was related to Generative-AI. Being a fully-rookie team, my group quickly found used our interests in the intersections of Data Analytics and Basketball to create a project. The goal was to use LLMs to generate scouting reports for basketball teams to gain better insights and improve their stradegies. You can find our repository <a href = \"https://github.com/darshk2023/Slamdunk-Analytics\">here</a>."
   ]
  },
  {
   "cell_type": "markdown",
   "id": "83fcf0f0-5a08-4470-9b9f-a8efe5134681",
   "metadata": {},
   "source": [
    "<h1>Data Visualizations</h1>\n",
    "\n",
    "Our first goal was to provide Data Visualizations to provide coaches with a clear way to examine their team's strengths and weaknesses. We stumbled upon the <a href = \"https://www.storytellingwithdata.com/blog/2021/8/31/what-is-a-spider-chart\">Spider Chart</a> through a <a href = \"https://www.tiktok.com/t/ZT8wujuuB/\">Tik Tok video</a> that we felt clearly showed patterns in playstyle like we hoped for, and decided to use it in our scouting reports.\n",
    "\n",
    "After deciding our approach, we found a NBA dataset on <a href =\"https://www.kaggle.com/datasets/sumitrodatta/nba-aba-baa-stats/data\">Kaggle</a> to use for our data visualizations. We used plotly to provide interactive graphs that allowed users to compare players and teams from either a single year, range of years, or all years. \n",
    "\n",
    "Here is an example player comparison, comparing players from two different eras. \n",
    "\n",
    "<img src = \"Player.png\">\n",
    "\n",
    "Or teams from two different eras.\n",
    "\n",
    "<img src = \"teams.png\">\n",
    "\n",
    "And current teams.\n",
    "\n",
    "<img src = \"76ers.png\">"
   ]
  },
  {
   "attachments": {},
   "cell_type": "markdown",
   "id": "9a7b5960-d02c-459f-a0fb-e778509e9f7a",
   "metadata": {},
   "source": [
    "<h1>Retrieval-augmented generation (RAG)</h1>\n",
    "In order to provide the scouting reports, we used <a href = \"\">RAG</a>. A <a href = \"\">blog post</a> will follow about how we used RAG, but, overall, we fed the model exampels of NBA scouting reports, NBA articles, and player data in order for it to present the most accuate findings in a scouting report structure. \n",
    "\n",
    "Overall, we were pleased with the results, however noticed inconsitencies in the responses where the model often referenced players that were no longer on the team, despite prompting it to analyze a team from a specific year. I believe this could be due to the use of older articles in either its training data or the articles we were providing it. In the future, I'd like to look into feeding the model data in the form of CSVs and providing it articles from ESPN written in only this year. \n",
    "\n",
    "Here is an example scouting report output: \n",
    "<img src = \"scouting.png\">"
   ]
  },
  {
   "attachments": {},
   "cell_type": "markdown",
   "id": "70a44d8f-907f-46e3-bca7-f957e15ba10b",
   "metadata": {},
   "source": [
    "<h1>The Interface</h1>\n",
    "As shown below, the user inputs either teams or players they would like to compare and specify the years they would like to analyze.\n",
    "\n",
    "<img src = \"interface1.png\" width = 50%>\n",
    "<img src = \"interface2.png\" width = 50%>\n",
    "<img src = \"output.png\" width = 50%>\n"
   ]
  },
  {
   "cell_type": "markdown",
   "id": "987f9abf-dec8-4486-98a4-bd7aba8a2f6f",
   "metadata": {},
   "source": [
    "<h1>Conclusion</h1>\n",
    "\n",
    "I had a great time at my first hackathon and exploring the world of Generative AI through sports. In the future, I'd like to further explore Langchain as well as RAG. I'd also like to tweak my data and provide current articles and csvs of data to provide more accurate scouting reports. I'd also like to see if models like LLava can provide insights given the spiderplots."
   ]
  }
 ],
 "metadata": {
  "citation-manager": {
   "items": {}
  },
  "kernelspec": {
   "display_name": "Python 3.11 (COMM4190)",
   "language": "python",
   "name": "comm4190"
  },
  "language_info": {
   "codemirror_mode": {
    "name": "ipython",
    "version": 3
   },
   "file_extension": ".py",
   "mimetype": "text/x-python",
   "name": "python",
   "nbconvert_exporter": "python",
   "pygments_lexer": "ipython3",
   "version": "3.11.7"
  }
 },
 "nbformat": 4,
 "nbformat_minor": 5
}
